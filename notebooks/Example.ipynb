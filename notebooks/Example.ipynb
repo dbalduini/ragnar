{
 "cells": [
  {
   "cell_type": "markdown",
   "metadata": {},
   "source": [
    "# Example\n",
    "\n",
    "This is an Example notebook.\n",
    "\n",
    "Here we demonstrate the basics of PySpark. Also, we will follow an ETL workflow.\n",
    "\n",
    "The data will be loaded from the local filesystem and written on Elasticsearch. \n",
    "After that, the processed data will be available for visualization on Kibana.\n",
    "\n",
    "For more help, check the following links:\n",
    "- https://docs.azuredatabricks.net/spark/latest/dataframes-datasets/introduction-to-dataframes-python.html"
   ]
  },
  {
   "cell_type": "code",
   "execution_count": 1,
   "metadata": {},
   "outputs": [],
   "source": [
    "from pyspark.sql import SparkSession"
   ]
  },
  {
   "cell_type": "code",
   "execution_count": 2,
   "metadata": {},
   "outputs": [],
   "source": [
    "spark = SparkSession.builder.appName(\"HelloWorldApp\").getOrCreate()"
   ]
  },
  {
   "cell_type": "markdown",
   "metadata": {},
   "source": [
    "### Extract\n",
    "\n",
    "The data we have don't have to be extracted. The only thing we need to do is to unzip it.\n"
   ]
  },
  {
   "cell_type": "code",
   "execution_count": 2,
   "metadata": {},
   "outputs": [
    {
     "name": "stdout",
     "output_type": "stream",
     "text": [
      "Archive:  /data/kpi.zip\n",
      "replace BOT_71721a50-15e8-11e9-bea4-63a645f6c589_BR_API_20190204T000000Z.txt? [y]es, [n]o, [A]ll, [N]one, [r]ename: error: invalid response [l]\n",
      "replace BOT_71721a50-15e8-11e9-bea4-63a645f6c589_BR_API_20190204T000000Z.txt? [y]es, [n]o, [A]ll, [N]one, [r]ename: "
     ]
    },
    {
     "name": "stderr",
     "output_type": "stream",
     "text": [
      "unzip: can't read standard input\n"
     ]
    }
   ],
   "source": [
    "%%sh\n",
    "unzip /data/kpi.zip -d /tmp\n",
    "ls /tmp"
   ]
  },
  {
   "cell_type": "markdown",
   "metadata": {},
   "source": [
    "## Exploration"
   ]
  },
  {
   "cell_type": "code",
   "execution_count": 4,
   "metadata": {},
   "outputs": [],
   "source": [
    "df = spark.read.option(\"delimiter\", \"|\").option(\"header\", \"true\").csv('/tmp/BOT_*MESSAGE*.txt')"
   ]
  },
  {
   "cell_type": "code",
   "execution_count": 5,
   "metadata": {},
   "outputs": [
    {
     "name": "stdout",
     "output_type": "stream",
     "text": [
      "(344, 27)\n"
     ]
    }
   ],
   "source": [
    "print(df.count(), len(df.columns))"
   ]
  },
  {
   "cell_type": "code",
   "execution_count": 6,
   "metadata": {},
   "outputs": [
    {
     "data": {
      "text/plain": [
       "['USER_ID',\n",
       " 'MSG_DT',\n",
       " 'MSG_ID',\n",
       " 'ACTION_CD',\n",
       " 'AURA_ID',\n",
       " 'PHONE_ID',\n",
       " 'CHANNEL_CD',\n",
       " 'SUBSCRIPTION_CD',\n",
       " 'DOMAIN_CD',\n",
       " 'CATEGORY_CD',\n",
       " 'COUNTRY_CD',\n",
       " 'CORR_ID',\n",
       " 'IS_CACHED',\n",
       " 'STATUS_CD',\n",
       " 'REASON',\n",
       " 'VERSION_ID',\n",
       " 'LANG_CD',\n",
       " 'TZ_CD',\n",
       " 'DURATION_NU',\n",
       " 'MESSAGE',\n",
       " 'DIALOG_ID',\n",
       " 'CONVERSATION_ID',\n",
       " 'WIN_RECOGNIZER_CD',\n",
       " 'WIN_RECOGNIZER_SCORE_NU',\n",
       " 'INTENT',\n",
       " 'ENTITIES',\n",
       " 'MODALITY_CD']"
      ]
     },
     "execution_count": 6,
     "metadata": {},
     "output_type": "execute_result"
    }
   ],
   "source": [
    "df.columns"
   ]
  },
  {
   "cell_type": "code",
   "execution_count": 7,
   "metadata": {},
   "outputs": [
    {
     "data": {
      "text/plain": [
       "Row(USER_ID=u'11995504724', MSG_DT=u'2019-02-08T13:00:00.527Z', MSG_ID=u'e0426ac7-5576-4995-827a-400d4e01ccb7', ACTION_CD=u'send', AURA_ID=u'facebook_-_2058564260851298', PHONE_ID=u'+5511995504724', CHANNEL_CD=u'facebook', SUBSCRIPTION_CD=u'postpaid', DOMAIN_CD=None, CATEGORY_CD=None, COUNTRY_CD=u'br', CORR_ID=u'06d6a0b7-74f4-5d5c-9655-370e7e7f288a', IS_CACHED=u'false', STATUS_CD=u'200', REASON=None, VERSION_ID=u'2.3.1', LANG_CD=u'pt-br', TZ_CD=u'America/Sao_Paulo', DURATION_NU=u'6087', MESSAGE=u'Seu plano de dados \\xe9 ilimitado', DIALOG_ID=u'services:service-usage', CONVERSATION_ID=u'2058564260851298-450287408662664', WIN_RECOGNIZER_CD=None, WIN_RECOGNIZER_SCORE_NU=None, INTENT=u'tef.int.pt_BR.fb.usage.check', ENTITIES=u'de dados,dados', MODALITY_CD=u'text')"
      ]
     },
     "execution_count": 7,
     "metadata": {},
     "output_type": "execute_result"
    }
   ],
   "source": [
    "df.first()"
   ]
  },
  {
   "cell_type": "code",
   "execution_count": 8,
   "metadata": {},
   "outputs": [],
   "source": [
    "receive_messages = df[df['ACTION_CD']=='receive']\n",
    "send_messages = df[df['ACTION_CD']=='send']"
   ]
  },
  {
   "cell_type": "code",
   "execution_count": 9,
   "metadata": {},
   "outputs": [
    {
     "data": {
      "text/plain": [
       "[Row(USER_ID=u'11995504724', MSG_DT=u'2019-02-08T13:00:00.527Z', ACTION_CD=u'send', AURA_ID=u'facebook_-_2058564260851298', DURATION_NU=u'6087'),\n",
       " Row(USER_ID=u'11995504724', MSG_DT=u'2019-02-08T13:00:00.530Z', ACTION_CD=u'send', AURA_ID=u'facebook_-_2058564260851298', DURATION_NU=u'6154'),\n",
       " Row(USER_ID=u'11995504724', MSG_DT=u'2019-02-08T13:00:00.531Z', ACTION_CD=u'send', AURA_ID=u'facebook_-_2058564260851298', DURATION_NU=u'6156'),\n",
       " Row(USER_ID=None, MSG_DT=u'2019-02-08T13:00:16.738Z', ACTION_CD=u'receive', AURA_ID=u'facebook_-_2058564260851298', DURATION_NU=None),\n",
       " Row(USER_ID=u'11995504724', MSG_DT=u'2019-02-08T13:00:18.565Z', ACTION_CD=u'send', AURA_ID=u'facebook_-_2058564260851298', DURATION_NU=u'1827'),\n",
       " Row(USER_ID=u'11995504724', MSG_DT=u'2019-02-08T13:00:21.958Z', ACTION_CD=u'send', AURA_ID=u'facebook_-_2058564260851298', DURATION_NU=u'5220'),\n",
       " Row(USER_ID=u'11995504724', MSG_DT=u'2019-02-08T13:00:21.959Z', ACTION_CD=u'send', AURA_ID=u'facebook_-_2058564260851298', DURATION_NU=u'5222'),\n",
       " Row(USER_ID=u'11995504724', MSG_DT=u'2019-02-08T13:00:21.961Z', ACTION_CD=u'send', AURA_ID=u'facebook_-_2058564260851298', DURATION_NU=u'5224'),\n",
       " Row(USER_ID=u'11995504724', MSG_DT=u'2019-02-08T13:00:21.960Z', ACTION_CD=u'send', AURA_ID=u'facebook_-_2058564260851298', DURATION_NU=u'5223'),\n",
       " Row(USER_ID=None, MSG_DT=u'2019-02-08T13:00:41.421Z', ACTION_CD=u'receive', AURA_ID=u'facebook_-_2058564260851298', DURATION_NU=None)]"
      ]
     },
     "execution_count": 9,
     "metadata": {},
     "output_type": "execute_result"
    }
   ],
   "source": [
    "df.select(\"USER_ID\", \"MSG_DT\", \"ACTION_CD\", \"AURA_ID\", \"DURATION_NU\").take(10)"
   ]
  },
  {
   "cell_type": "markdown",
   "metadata": {},
   "source": [
    "### Transform\n",
    "\n",
    "On the transform step of our ETL, we will add a new column to the messages dataframe.\n",
    "\n",
    "This new column will be the sum of the *DURATION_NU* column, which represents the time took for the bot to respond the given request."
   ]
  },
  {
   "cell_type": "code",
   "execution_count": 10,
   "metadata": {},
   "outputs": [],
   "source": [
    "from pyspark.sql.functions import col, udf"
   ]
  },
  {
   "cell_type": "markdown",
   "metadata": {},
   "source": [
    "Lets add two new columns with parsed date to the dataframe."
   ]
  },
  {
   "cell_type": "code",
   "execution_count": 11,
   "metadata": {},
   "outputs": [],
   "source": [
    "df = df.withColumn('MSG_DATE', col(\"MSG_DT\").cast(\"date\").alias(\"dt\"))\n",
    "df = df.withColumn('MSG_TS', col(\"MSG_DT\").cast(\"timestamp\").alias(\"ts\"))"
   ]
  },
  {
   "cell_type": "code",
   "execution_count": 12,
   "metadata": {},
   "outputs": [
    {
     "data": {
      "text/plain": [
       "[Row(MSG_DT=u'2019-02-08T13:00:00.527Z', MSG_TS=datetime.datetime(2019, 2, 8, 13, 0, 0, 527000)),\n",
       " Row(MSG_DT=u'2019-02-08T13:00:00.530Z', MSG_TS=datetime.datetime(2019, 2, 8, 13, 0, 0, 530000)),\n",
       " Row(MSG_DT=u'2019-02-08T13:00:00.531Z', MSG_TS=datetime.datetime(2019, 2, 8, 13, 0, 0, 531000)),\n",
       " Row(MSG_DT=u'2019-02-08T13:00:16.738Z', MSG_TS=datetime.datetime(2019, 2, 8, 13, 0, 16, 738000)),\n",
       " Row(MSG_DT=u'2019-02-08T13:00:18.565Z', MSG_TS=datetime.datetime(2019, 2, 8, 13, 0, 18, 565000)),\n",
       " Row(MSG_DT=u'2019-02-08T13:00:21.958Z', MSG_TS=datetime.datetime(2019, 2, 8, 13, 0, 21, 958000)),\n",
       " Row(MSG_DT=u'2019-02-08T13:00:21.959Z', MSG_TS=datetime.datetime(2019, 2, 8, 13, 0, 21, 959000)),\n",
       " Row(MSG_DT=u'2019-02-08T13:00:21.961Z', MSG_TS=datetime.datetime(2019, 2, 8, 13, 0, 21, 961000)),\n",
       " Row(MSG_DT=u'2019-02-08T13:00:21.960Z', MSG_TS=datetime.datetime(2019, 2, 8, 13, 0, 21, 960000)),\n",
       " Row(MSG_DT=u'2019-02-08T13:00:41.421Z', MSG_TS=datetime.datetime(2019, 2, 8, 13, 0, 41, 421000))]"
      ]
     },
     "execution_count": 12,
     "metadata": {},
     "output_type": "execute_result"
    }
   ],
   "source": [
    "df[['MSG_DT', 'MSG_TS']].take(10)"
   ]
  },
  {
   "cell_type": "markdown",
   "metadata": {},
   "source": [
    "**Add sum of DURATION_NU by correlation id**"
   ]
  },
  {
   "cell_type": "code",
   "execution_count": 13,
   "metadata": {},
   "outputs": [],
   "source": [
    "df = df.withColumn('DURATION', col(\"DURATION_NU\").cast(\"double\").alias(\"duration\"))"
   ]
  },
  {
   "cell_type": "code",
   "execution_count": 14,
   "metadata": {},
   "outputs": [
    {
     "data": {
      "text/plain": [
       "[Row(DURATION=6087.0),\n",
       " Row(DURATION=6154.0),\n",
       " Row(DURATION=6156.0),\n",
       " Row(DURATION=0.0),\n",
       " Row(DURATION=1827.0),\n",
       " Row(DURATION=5220.0),\n",
       " Row(DURATION=5222.0),\n",
       " Row(DURATION=5224.0),\n",
       " Row(DURATION=5223.0),\n",
       " Row(DURATION=0.0),\n",
       " Row(DURATION=4406.0),\n",
       " Row(DURATION=4408.0),\n",
       " Row(DURATION=4409.0),\n",
       " Row(DURATION=0.0),\n",
       " Row(DURATION=2994.0),\n",
       " Row(DURATION=0.0),\n",
       " Row(DURATION=6577.0),\n",
       " Row(DURATION=0.0),\n",
       " Row(DURATION=1839.0),\n",
       " Row(DURATION=0.0),\n",
       " Row(DURATION=15653.0),\n",
       " Row(DURATION=0.0),\n",
       " Row(DURATION=517.0),\n",
       " Row(DURATION=0.0),\n",
       " Row(DURATION=1031.0),\n",
       " Row(DURATION=0.0),\n",
       " Row(DURATION=553.0),\n",
       " Row(DURATION=0.0),\n",
       " Row(DURATION=377.0),\n",
       " Row(DURATION=0.0),\n",
       " Row(DURATION=1330.0),\n",
       " Row(DURATION=0.0),\n",
       " Row(DURATION=3421.0),\n",
       " Row(DURATION=0.0),\n",
       " Row(DURATION=1373.0),\n",
       " Row(DURATION=0.0),\n",
       " Row(DURATION=855.0),\n",
       " Row(DURATION=0.0),\n",
       " Row(DURATION=1684.0),\n",
       " Row(DURATION=0.0),\n",
       " Row(DURATION=1995.0),\n",
       " Row(DURATION=0.0),\n",
       " Row(DURATION=492.0),\n",
       " Row(DURATION=0.0),\n",
       " Row(DURATION=935.0),\n",
       " Row(DURATION=0.0),\n",
       " Row(DURATION=957.0),\n",
       " Row(DURATION=0.0),\n",
       " Row(DURATION=1659.0),\n",
       " Row(DURATION=0.0),\n",
       " Row(DURATION=835.0),\n",
       " Row(DURATION=0.0),\n",
       " Row(DURATION=905.0),\n",
       " Row(DURATION=0.0),\n",
       " Row(DURATION=952.0),\n",
       " Row(DURATION=0.0),\n",
       " Row(DURATION=765.0),\n",
       " Row(DURATION=0.0),\n",
       " Row(DURATION=1262.0),\n",
       " Row(DURATION=0.0),\n",
       " Row(DURATION=791.0),\n",
       " Row(DURATION=0.0),\n",
       " Row(DURATION=1266.0),\n",
       " Row(DURATION=0.0),\n",
       " Row(DURATION=1130.0),\n",
       " Row(DURATION=0.0),\n",
       " Row(DURATION=3510.0),\n",
       " Row(DURATION=0.0),\n",
       " Row(DURATION=488.0),\n",
       " Row(DURATION=0.0),\n",
       " Row(DURATION=626.0),\n",
       " Row(DURATION=0.0),\n",
       " Row(DURATION=1651.0),\n",
       " Row(DURATION=0.0),\n",
       " Row(DURATION=2087.0),\n",
       " Row(DURATION=0.0),\n",
       " Row(DURATION=824.0),\n",
       " Row(DURATION=0.0),\n",
       " Row(DURATION=735.0),\n",
       " Row(DURATION=0.0),\n",
       " Row(DURATION=3671.0),\n",
       " Row(DURATION=0.0),\n",
       " Row(DURATION=2074.0),\n",
       " Row(DURATION=0.0),\n",
       " Row(DURATION=957.0),\n",
       " Row(DURATION=0.0),\n",
       " Row(DURATION=616.0),\n",
       " Row(DURATION=0.0),\n",
       " Row(DURATION=650.0),\n",
       " Row(DURATION=0.0),\n",
       " Row(DURATION=1964.0),\n",
       " Row(DURATION=0.0),\n",
       " Row(DURATION=544.0),\n",
       " Row(DURATION=0.0),\n",
       " Row(DURATION=2241.0),\n",
       " Row(DURATION=0.0),\n",
       " Row(DURATION=2452.0),\n",
       " Row(DURATION=0.0),\n",
       " Row(DURATION=496.0),\n",
       " Row(DURATION=0.0),\n",
       " Row(DURATION=12192.0),\n",
       " Row(DURATION=0.0),\n",
       " Row(DURATION=1420.0),\n",
       " Row(DURATION=0.0),\n",
       " Row(DURATION=953.0),\n",
       " Row(DURATION=0.0),\n",
       " Row(DURATION=1057.0),\n",
       " Row(DURATION=0.0),\n",
       " Row(DURATION=1561.0),\n",
       " Row(DURATION=0.0),\n",
       " Row(DURATION=542.0),\n",
       " Row(DURATION=0.0),\n",
       " Row(DURATION=2159.0),\n",
       " Row(DURATION=0.0),\n",
       " Row(DURATION=900.0),\n",
       " Row(DURATION=0.0),\n",
       " Row(DURATION=11155.0),\n",
       " Row(DURATION=0.0),\n",
       " Row(DURATION=517.0),\n",
       " Row(DURATION=0.0),\n",
       " Row(DURATION=537.0),\n",
       " Row(DURATION=0.0),\n",
       " Row(DURATION=673.0),\n",
       " Row(DURATION=0.0),\n",
       " Row(DURATION=493.0),\n",
       " Row(DURATION=0.0),\n",
       " Row(DURATION=727.0),\n",
       " Row(DURATION=0.0),\n",
       " Row(DURATION=1499.0),\n",
       " Row(DURATION=0.0),\n",
       " Row(DURATION=798.0),\n",
       " Row(DURATION=0.0),\n",
       " Row(DURATION=1391.0),\n",
       " Row(DURATION=0.0),\n",
       " Row(DURATION=534.0),\n",
       " Row(DURATION=0.0),\n",
       " Row(DURATION=1884.0),\n",
       " Row(DURATION=0.0),\n",
       " Row(DURATION=3642.0),\n",
       " Row(DURATION=0.0),\n",
       " Row(DURATION=1396.0),\n",
       " Row(DURATION=0.0),\n",
       " Row(DURATION=8103.0),\n",
       " Row(DURATION=0.0),\n",
       " Row(DURATION=2165.0),\n",
       " Row(DURATION=0.0),\n",
       " Row(DURATION=448.0),\n",
       " Row(DURATION=0.0),\n",
       " Row(DURATION=1081.0),\n",
       " Row(DURATION=0.0),\n",
       " Row(DURATION=749.0),\n",
       " Row(DURATION=0.0),\n",
       " Row(DURATION=1542.0),\n",
       " Row(DURATION=0.0),\n",
       " Row(DURATION=10878.0),\n",
       " Row(DURATION=0.0),\n",
       " Row(DURATION=1536.0),\n",
       " Row(DURATION=0.0),\n",
       " Row(DURATION=501.0),\n",
       " Row(DURATION=0.0),\n",
       " Row(DURATION=307.0),\n",
       " Row(DURATION=0.0),\n",
       " Row(DURATION=4357.0),\n",
       " Row(DURATION=0.0),\n",
       " Row(DURATION=1074.0),\n",
       " Row(DURATION=0.0),\n",
       " Row(DURATION=2342.0),\n",
       " Row(DURATION=0.0),\n",
       " Row(DURATION=907.0),\n",
       " Row(DURATION=0.0),\n",
       " Row(DURATION=8921.0),\n",
       " Row(DURATION=0.0),\n",
       " Row(DURATION=2630.0),\n",
       " Row(DURATION=0.0),\n",
       " Row(DURATION=2049.0),\n",
       " Row(DURATION=0.0),\n",
       " Row(DURATION=12169.0),\n",
       " Row(DURATION=0.0),\n",
       " Row(DURATION=1343.0),\n",
       " Row(DURATION=0.0),\n",
       " Row(DURATION=1460.0),\n",
       " Row(DURATION=0.0),\n",
       " Row(DURATION=1557.0),\n",
       " Row(DURATION=0.0),\n",
       " Row(DURATION=1083.0),\n",
       " Row(DURATION=0.0),\n",
       " Row(DURATION=668.0),\n",
       " Row(DURATION=0.0),\n",
       " Row(DURATION=1175.0),\n",
       " Row(DURATION=0.0),\n",
       " Row(DURATION=1047.0),\n",
       " Row(DURATION=0.0),\n",
       " Row(DURATION=384.0),\n",
       " Row(DURATION=0.0),\n",
       " Row(DURATION=4543.0),\n",
       " Row(DURATION=0.0),\n",
       " Row(DURATION=666.0),\n",
       " Row(DURATION=670.0),\n",
       " Row(DURATION=0.0),\n",
       " Row(DURATION=5938.0),\n",
       " Row(DURATION=5942.0),\n",
       " Row(DURATION=5940.0),\n",
       " Row(DURATION=0.0),\n",
       " Row(DURATION=0.0),\n",
       " Row(DURATION=1359.0),\n",
       " Row(DURATION=0.0),\n",
       " Row(DURATION=1271.0),\n",
       " Row(DURATION=0.0),\n",
       " Row(DURATION=1469.0),\n",
       " Row(DURATION=0.0),\n",
       " Row(DURATION=426.0),\n",
       " Row(DURATION=0.0),\n",
       " Row(DURATION=7986.0),\n",
       " Row(DURATION=0.0),\n",
       " Row(DURATION=1052.0),\n",
       " Row(DURATION=0.0),\n",
       " Row(DURATION=992.0),\n",
       " Row(DURATION=0.0),\n",
       " Row(DURATION=539.0),\n",
       " Row(DURATION=0.0),\n",
       " Row(DURATION=12974.0),\n",
       " Row(DURATION=0.0),\n",
       " Row(DURATION=473.0),\n",
       " Row(DURATION=0.0),\n",
       " Row(DURATION=5730.0),\n",
       " Row(DURATION=0.0),\n",
       " Row(DURATION=2481.0),\n",
       " Row(DURATION=0.0),\n",
       " Row(DURATION=3480.0),\n",
       " Row(DURATION=0.0),\n",
       " Row(DURATION=2462.0),\n",
       " Row(DURATION=0.0),\n",
       " Row(DURATION=447.0),\n",
       " Row(DURATION=0.0),\n",
       " Row(DURATION=888.0),\n",
       " Row(DURATION=0.0),\n",
       " Row(DURATION=1345.0),\n",
       " Row(DURATION=0.0),\n",
       " Row(DURATION=0.0),\n",
       " Row(DURATION=0.0),\n",
       " Row(DURATION=0.0),\n",
       " Row(DURATION=1595.0),\n",
       " Row(DURATION=0.0),\n",
       " Row(DURATION=0.0),\n",
       " Row(DURATION=710.0),\n",
       " Row(DURATION=0.0),\n",
       " Row(DURATION=0.0),\n",
       " Row(DURATION=2514.0),\n",
       " Row(DURATION=0.0),\n",
       " Row(DURATION=309.0),\n",
       " Row(DURATION=0.0),\n",
       " Row(DURATION=1029.0),\n",
       " Row(DURATION=0.0),\n",
       " Row(DURATION=735.0),\n",
       " Row(DURATION=0.0),\n",
       " Row(DURATION=0.0),\n",
       " Row(DURATION=6191.0),\n",
       " Row(DURATION=0.0),\n",
       " Row(DURATION=7099.0),\n",
       " Row(DURATION=0.0),\n",
       " Row(DURATION=10679.0),\n",
       " Row(DURATION=0.0),\n",
       " Row(DURATION=26130.0),\n",
       " Row(DURATION=0.0),\n",
       " Row(DURATION=1799.0),\n",
       " Row(DURATION=0.0),\n",
       " Row(DURATION=1313.0),\n",
       " Row(DURATION=0.0),\n",
       " Row(DURATION=11721.0),\n",
       " Row(DURATION=0.0),\n",
       " Row(DURATION=607.0),\n",
       " Row(DURATION=0.0),\n",
       " Row(DURATION=2367.0),\n",
       " Row(DURATION=0.0),\n",
       " Row(DURATION=1606.0),\n",
       " Row(DURATION=0.0),\n",
       " Row(DURATION=451.0),\n",
       " Row(DURATION=0.0),\n",
       " Row(DURATION=785.0),\n",
       " Row(DURATION=0.0),\n",
       " Row(DURATION=9555.0),\n",
       " Row(DURATION=0.0),\n",
       " Row(DURATION=884.0),\n",
       " Row(DURATION=0.0),\n",
       " Row(DURATION=21377.0),\n",
       " Row(DURATION=0.0),\n",
       " Row(DURATION=11184.0),\n",
       " Row(DURATION=0.0),\n",
       " Row(DURATION=1870.0),\n",
       " Row(DURATION=0.0),\n",
       " Row(DURATION=1472.0),\n",
       " Row(DURATION=0.0),\n",
       " Row(DURATION=15664.0),\n",
       " Row(DURATION=0.0),\n",
       " Row(DURATION=634.0),\n",
       " Row(DURATION=0.0),\n",
       " Row(DURATION=16329.0),\n",
       " Row(DURATION=0.0),\n",
       " Row(DURATION=1609.0),\n",
       " Row(DURATION=0.0),\n",
       " Row(DURATION=8614.0),\n",
       " Row(DURATION=0.0),\n",
       " Row(DURATION=2205.0),\n",
       " Row(DURATION=0.0),\n",
       " Row(DURATION=3744.0),\n",
       " Row(DURATION=0.0),\n",
       " Row(DURATION=385.0),\n",
       " Row(DURATION=0.0),\n",
       " Row(DURATION=6380.0),\n",
       " Row(DURATION=0.0),\n",
       " Row(DURATION=1018.0),\n",
       " Row(DURATION=0.0),\n",
       " Row(DURATION=1833.0),\n",
       " Row(DURATION=0.0),\n",
       " Row(DURATION=819.0),\n",
       " Row(DURATION=0.0),\n",
       " Row(DURATION=9227.0),\n",
       " Row(DURATION=0.0),\n",
       " Row(DURATION=18856.0),\n",
       " Row(DURATION=0.0),\n",
       " Row(DURATION=9109.0),\n",
       " Row(DURATION=0.0),\n",
       " Row(DURATION=22420.0),\n",
       " Row(DURATION=0.0),\n",
       " Row(DURATION=2320.0),\n",
       " Row(DURATION=0.0),\n",
       " Row(DURATION=42384.0),\n",
       " Row(DURATION=0.0),\n",
       " Row(DURATION=5654.0),\n",
       " Row(DURATION=0.0),\n",
       " Row(DURATION=1664.0),\n",
       " Row(DURATION=0.0),\n",
       " Row(DURATION=1916.0),\n",
       " Row(DURATION=0.0),\n",
       " Row(DURATION=10794.0),\n",
       " Row(DURATION=0.0),\n",
       " Row(DURATION=7009.0),\n",
       " Row(DURATION=0.0),\n",
       " Row(DURATION=2234.0),\n",
       " Row(DURATION=0.0),\n",
       " Row(DURATION=0.0),\n",
       " Row(DURATION=0.0),\n",
       " Row(DURATION=0.0),\n",
       " Row(DURATION=0.0)]"
      ]
     },
     "execution_count": 14,
     "metadata": {},
     "output_type": "execute_result"
    }
   ],
   "source": [
    "df.select('DURATION').na.fill(0).collect()"
   ]
  },
  {
   "cell_type": "code",
   "execution_count": 15,
   "metadata": {},
   "outputs": [
    {
     "data": {
      "text/plain": [
       "116"
      ]
     },
     "execution_count": 15,
     "metadata": {},
     "output_type": "execute_result"
    }
   ],
   "source": [
    "df.where(col('DURATION_NU') > 1000).count()"
   ]
  },
  {
   "cell_type": "code",
   "execution_count": 16,
   "metadata": {},
   "outputs": [
    {
     "data": {
      "text/plain": [
       "344"
      ]
     },
     "execution_count": 16,
     "metadata": {},
     "output_type": "execute_result"
    }
   ],
   "source": [
    "df.count()"
   ]
  },
  {
   "cell_type": "code",
   "execution_count": 17,
   "metadata": {},
   "outputs": [],
   "source": [
    "from pyspark.sql import functions as F\n"
   ]
  },
  {
   "cell_type": "code",
   "execution_count": 18,
   "metadata": {},
   "outputs": [],
   "source": [
    "# receive messages dont have duration\n",
    "df_avg_dur = df.where(col('ACTION_CD') == 'send').groupBy('CORR_ID').agg(F.avg('DURATION'))"
   ]
  },
  {
   "cell_type": "code",
   "execution_count": 19,
   "metadata": {},
   "outputs": [
    {
     "data": {
      "text/plain": [
       "[Row(CORR_ID=u'73d483ae-2f0c-57a3-96d4-5d210e61e9a2', avg(DURATION)=6380.0),\n",
       " Row(CORR_ID=u'700b8cfb-0207-5ff7-b8ae-54a33c9f03d3', avg(DURATION)=1469.0),\n",
       " Row(CORR_ID=u'22279655-6f67-5097-bbda-d359fcd0eb8e', avg(DURATION)=8921.0),\n",
       " Row(CORR_ID=u'dc376e83-08b9-58f2-aca4-d3d36379bdd4', avg(DURATION)=1684.0),\n",
       " Row(CORR_ID=u'f66036bf-c39d-5e0e-bd20-ae57ad0d7249', avg(DURATION)=1651.0)]"
      ]
     },
     "execution_count": 19,
     "metadata": {},
     "output_type": "execute_result"
    }
   ],
   "source": [
    "df_avg_dur.take(5)"
   ]
  },
  {
   "cell_type": "code",
   "execution_count": 20,
   "metadata": {},
   "outputs": [],
   "source": [
    "corr_id_dur_map = df_avg_dur.rdd.collectAsMap()"
   ]
  },
  {
   "cell_type": "code",
   "execution_count": 21,
   "metadata": {},
   "outputs": [
    {
     "data": {
      "text/plain": [
       "{u'01c369ea-1e89-59eb-838c-ad178e71f911': 1472.0,\n",
       " u'01f33986-ca77-5f48-b874-71b23ac6a6a5': 6577.0,\n",
       " u'02ea14cc-7e22-52c6-981b-29f52ab45171': 2342.0,\n",
       " u'04409a86-8f47-5780-9ff1-f5bc511fb1a0': 493.0,\n",
       " u'05443bfd-8bbe-598e-9a58-f4bd0b8b3c3a': 710.0,\n",
       " u'06d6a0b7-74f4-5d5c-9655-370e7e7f288a': 6132.333333333333,\n",
       " u'085d83f2-13bf-561c-b54b-e8630e0dfb45': 7009.0,\n",
       " u'091e0bd0-ca20-5180-8fc4-9f6b0b0aa2fe': 765.0,\n",
       " u'0db59d32-6eff-52ab-b00c-d060d8eb1b7b': 1029.0,\n",
       " u'103a9403-d280-534f-8367-e759d39e38cf': 626.0,\n",
       " u'13c2f468-c1e3-5e00-892f-9407ab768198': 1870.0,\n",
       " u'18328cc2-c1fe-59f4-be81-f5fb38e779f6': 26130.0,\n",
       " u'19b000de-49ec-5fee-8073-040592586b70': 451.0,\n",
       " u'1a73951f-4870-53be-a643-0bc0dbad95f4': 735.0,\n",
       " u'1e16d118-3eec-56e7-a710-b624c3367b35': 307.0,\n",
       " u'1e8c92f8-591f-5d22-a34f-62c2a936b8a8': 385.0,\n",
       " u'1e9e5623-dfec-5028-b1a5-ed470e9d6504': 4357.0,\n",
       " u'1f54ead4-df75-5a9e-9669-0376c49a870d': 819.0,\n",
       " u'216a846f-4d1a-5c53-b621-903bd1bf636a': 537.0,\n",
       " u'2190d5a8-0595-5a23-b71a-c6dd23e53f2b': 824.0,\n",
       " u'22279655-6f67-5097-bbda-d359fcd0eb8e': 8921.0,\n",
       " u'26e33b4c-20a2-5dce-829b-e947e837f2ff': 534.0,\n",
       " u'29903d9e-2a3c-5433-bb6d-a0de167f8595': 18856.0,\n",
       " u'2a23499c-1384-5fd1-aa06-6e4071af3479': 668.0,\n",
       " u'318d803f-208b-5357-b820-d81a5cb38789': 2994.0,\n",
       " u'32a10c03-b67d-5750-9959-fdf47e40991d': 3642.0,\n",
       " u'346d9c8d-0928-5329-9ccd-88a0dbcbe067': 2165.0,\n",
       " u'35c0a0f8-93e3-5b15-969d-404a95dde830': 1391.0,\n",
       " u'362cf471-0115-5de8-9272-433d46eff556': 855.0,\n",
       " u'36ef4ac9-0198-585f-b5ed-4a9a70f4c33e': 7099.0,\n",
       " u'3afaafba-4463-59dd-bb05-b840c837bc78': 16329.0,\n",
       " u'3afac03a-97fb-5f91-8f6a-78e9f7475c4c': 835.0,\n",
       " u'3b4f3299-faf7-5ab0-9ea5-d55a18725ba7': 1609.0,\n",
       " u'3d00ab71-4ebd-536f-965b-cef2c01608d8': 2205.0,\n",
       " u'4116c42d-fa2a-587f-b020-72f4a04f8daf': 309.0,\n",
       " u'41b6df75-8561-509e-b553-64d3d0bcec72': 1396.0,\n",
       " u'41f72983-ae23-547b-b540-9b5d37155caf': 1359.0,\n",
       " u'422bfe4d-9239-54f7-81ae-1975eedbf41f': 1595.0,\n",
       " u'43c17371-d0da-59de-8326-5e85dbfdd1e8': 1557.0,\n",
       " u'45e331a6-6eb2-5ce6-a685-d7f34176185c': 2159.0,\n",
       " u'4826995f-38f2-5660-851f-f455de5fd238': 1839.0,\n",
       " u'4c760fe1-b0c0-53b5-ab20-689fb9093d5d': 10794.0,\n",
       " u'4ce49dad-33c4-56e5-8ac4-e2c9faa6fb8b': 12974.0,\n",
       " u'4d17d184-c10c-58c2-9ceb-d38f62f9a635': 22420.0,\n",
       " u'4e89ccd6-b65a-5218-a119-533ca36c8820': 2320.0,\n",
       " u'4f4371ff-bfc5-5eb1-8280-a826ce9380eb': 650.0,\n",
       " u'504b9ef6-1ce5-5ce5-9ddd-a0261caed32f': 3671.0,\n",
       " u'52b8e99d-8e27-599f-8d03-74152a532e0f': 2234.0,\n",
       " u'5325cda9-68bb-5e0d-9568-ae790c1878d0': 673.0,\n",
       " u'5365d472-e729-5931-9fda-943efe5bdcc7': 1018.0,\n",
       " u'55e6d3df-a310-55e2-a9af-f213ec223a33': 1499.0,\n",
       " u'572b777f-878e-5cc1-bc7c-763a14806520': 1373.0,\n",
       " u'573f0277-0ef4-56eb-9414-1dbd1147acac': 1330.0,\n",
       " u'5886c2a0-d947-50cb-99f1-24f6e1466eba': 2481.0,\n",
       " u'5a1badb7-c340-5fd6-9156-7959512fdd4e': 1266.0,\n",
       " u'5a724f5e-c8e2-5280-927d-acac5b2e1c63': 1833.0,\n",
       " u'5c2fae58-f1a9-5ad9-9784-d498fb8f85bc': 888.0,\n",
       " u'5d1b3ca9-35f3-5e19-a436-cb9d7ce8dc28': 15653.0,\n",
       " u'5e76fe96-90b8-521d-b69c-e0038ff925d0': 6191.0,\n",
       " u'5f949f47-a69d-5fa6-94e5-a72ef4e5aefc': 2074.0,\n",
       " u'62b77206-38e6-5f0d-a35c-3d4be2ea4fac': 1536.0,\n",
       " u'637d761f-8c6c-5353-b8a5-4a75d8e68a73': 1031.0,\n",
       " u'63824f5a-5b79-5e35-872e-95f785cf7c99': 11155.0,\n",
       " u'64d8d9ac-d5ae-5982-ab83-7f8d688d6e60': 10878.0,\n",
       " u'663f721c-4c40-5166-b7f2-d44b4ad196b9': 5730.0,\n",
       " u'66dfb8c8-a442-5afa-8a79-69eb532e53fe': 12169.0,\n",
       " u'6aac39dc-446b-5fc5-acff-42c82a54dd1e': 1271.0,\n",
       " u'6c40b23b-4af5-5048-93c4-de760743d55c': 798.0,\n",
       " u'6c6f9d17-e74a-57a3-afc0-bc85c0919c33': 791.0,\n",
       " u'6ca592f8-eb1d-5d54-b721-f2ff480c9457': 884.0,\n",
       " u'6cf15dba-d196-51e9-9f90-996bc40df5d0': 517.0,\n",
       " u'6fbd7498-b4ae-5f9a-b758-0e3943a7ce42': 616.0,\n",
       " u'700b8cfb-0207-5ff7-b8ae-54a33c9f03d3': 1469.0,\n",
       " u'708e5155-5295-5b09-a95f-e496c36a1f6e': 727.0,\n",
       " u'70b84547-a7cd-508f-9368-9ad2e642d8af': 1799.0,\n",
       " u'73d483ae-2f0c-57a3-96d4-5d210e61e9a2': 6380.0,\n",
       " u'7404a754-376c-561e-abc8-38538b5b2fe5': 377.0,\n",
       " u'75cdece3-0198-5e6d-9e4b-e9a4571da4bf': 992.0,\n",
       " u'76745f5d-e2b5-5114-8416-f0886657bd6e': 1313.0,\n",
       " u'777a8d62-4b40-5dca-ba9c-b67b726de05f': 907.0,\n",
       " u'78b72b35-e8fa-50ea-b90e-fe8566072034': 544.0,\n",
       " u'78c45d5a-d3aa-5e53-838a-a8bd2226b2f5': 1047.0,\n",
       " u'7c4f5d42-7e06-517e-88e5-3fd17c822515': 539.0,\n",
       " u'7c79bfe3-2b09-50a8-aa77-755a33f94b04': 1262.0,\n",
       " u'7c9e0776-7f0c-59d1-b24b-d83640fc3186': 668.0,\n",
       " u'7cc94e93-8409-5dc6-a5ef-abf97cd8b550': 42384.0,\n",
       " u'7f77cc0a-7f2e-5805-b9a5-636236d5a16d': 1052.0,\n",
       " u'81efee7a-7723-552b-92c4-884f69908a78': 1083.0,\n",
       " u'8571fa6e-f012-54bc-9b95-6e1a9403efc6': 1460.0,\n",
       " u'872ed8c2-fba3-5ed7-b95a-4a3c9777205a': 448.0,\n",
       " u'87402b65-4db8-50a9-9d12-9694feb96459': 2462.0,\n",
       " u'87a47f08-1469-593e-ada6-9dc38cebdff4': 4543.0,\n",
       " u'87fb540e-956a-5dea-b3d2-be06f7795e31': 935.0,\n",
       " u'8b021836-b8b0-5174-a8ae-b25bfddfe3af': 21377.0,\n",
       " u'8b96c546-94b5-5aab-9893-e2568048fa59': 1057.0,\n",
       " u'8c2b7d8c-bf4e-560f-995d-8a1b38f2fc90': 426.0,\n",
       " u'8e087ff4-0fe4-525d-adfa-9f5e0c588eea': 8614.0,\n",
       " u'8f2b14c9-cb43-5c41-9b14-a765ca9c848d': 1345.0,\n",
       " u'9050035d-d04c-5e74-9307-a8b6b863abb4': 3421.0,\n",
       " u'9147233a-75c7-5385-94e8-65d28a84d952': 607.0,\n",
       " u'9218609b-befd-5f07-842a-63896d50c7fd': 2049.0,\n",
       " u'92379c73-006e-5947-a256-546781136981': 8103.0,\n",
       " u'951919ab-faf6-5b79-b76b-002ad0cfefa7': 10679.0,\n",
       " u'97d9c1cf-dd61-526e-b969-17a7e9dcb9a7': 2241.0,\n",
       " u'999b08de-c28c-50de-82a9-71200398ec40': 501.0,\n",
       " u'9ab48397-9545-5ad8-8512-a3971afc492e': 634.0,\n",
       " u'9b5aee2f-2f6a-5a6f-bcdb-f09c16e54d22': 1995.0,\n",
       " u'9bcaabe2-f7eb-5582-b8ae-e66517acd332': 2452.0,\n",
       " u'9be37691-5a86-531b-83ed-c0ca8d52bf16': 4407.666666666667,\n",
       " u'9c226426-c58e-5857-9017-98d2349a254e': 1130.0,\n",
       " u'9fea2c19-afdf-5626-bced-c6fa6cf6c8fa': 9555.0,\n",
       " u'a06827bf-17aa-5ed7-ad7d-76f466eeb9a4': 953.0,\n",
       " u'a15b94ad-5fd1-52e7-adbe-de9c1361e897': 1884.0,\n",
       " u'a2d75201-0228-5ea1-8196-030ad19d489a': 2367.0,\n",
       " u'a87d8eb2-fb41-50e8-826e-ce4d86129070': 905.0,\n",
       " u'b0914203-d179-5cc0-a19f-e59fe597fdb4': 11721.0,\n",
       " u'b2128f20-7826-5785-9f12-b8c35bb23572': 3744.0,\n",
       " u'b467bf6d-f356-5d2c-bc94-3dddeda14296': 1175.0,\n",
       " u'b4b4777c-5514-5349-917d-623df0c9960f': 1343.0,\n",
       " u'b6127985-0918-5983-9b44-50654a71eb53': 1074.0,\n",
       " u'b62959ea-6255-50ff-a8e8-bb7f6a1148ec': 11184.0,\n",
       " u'bbada85d-5ffd-58a4-adc5-7c4855e15367': 15664.0,\n",
       " u'bcc5d3f1-92ec-52e4-8f46-7f23c7acb4f4': 957.0,\n",
       " u'bd159186-495f-5cb6-b7e6-e2d9679568f1': 5654.0,\n",
       " u'bd589537-5a52-5b3c-86f6-aec6774d5b85': 1606.0,\n",
       " u'bdb0eab9-1753-5577-89ec-5e58aefd87aa': 12192.0,\n",
       " u'c0217d87-cd94-5561-a18f-443dee0bca1e': 1542.0,\n",
       " u'c50ae34a-df0d-58e5-8053-85a9c3faf4a2': 749.0,\n",
       " u'c70f4722-108e-575d-9ded-58a73133f336': 517.0,\n",
       " u'c72caaa5-8656-501c-aeb8-54d950d23a61': 384.0,\n",
       " u'c7f98bbc-2919-5819-a985-e900885ff7ca': 9227.0,\n",
       " u'c812200b-0a0d-502a-9e59-e67ec237c266': 447.0,\n",
       " u'cb713a01-5124-5c0f-a7fc-e1a37318577c': 3510.0,\n",
       " u'cc73abb4-7d31-5ea4-bb14-53f752e3237a': 3480.0,\n",
       " u'ce56ed52-adfa-5c98-abbc-7d29c9b80e0d': 1964.0,\n",
       " u'cedfeaf2-2888-57a4-8b1d-b662df7d2853': 553.0,\n",
       " u'd5ed0f06-b983-5770-9495-03432753271a': 1916.0,\n",
       " u'd7e62acf-a526-546a-b624-0614b5f70ce2': 1081.0,\n",
       " u'd83e0b0e-910b-5765-b013-5dc062032239': 957.0,\n",
       " u'd9545004-3a81-559a-b7d6-6ed53730d3e5': 4543.2,\n",
       " u'dab97d11-e6b9-5b4d-8c51-7b445b6748a6': 7986.0,\n",
       " u'db41d7cf-3fee-5d11-baca-61f9c95571b4': 492.0,\n",
       " u'dc376e83-08b9-58f2-aca4-d3d36379bdd4': 1684.0,\n",
       " u'dd28e077-5d3a-5620-acdb-885928c2b950': 1561.0,\n",
       " u'dffee9ae-b10c-5fd9-8c7d-1dab7eaa0ed9': 488.0,\n",
       " u'e54b586c-3d35-5f4a-bf6c-437069f27e87': 785.0,\n",
       " u'e685ea65-4ad6-5505-86db-d60555bac28f': 900.0,\n",
       " u'e7893e6b-3f45-5463-954b-3b4e0ea99860': 9109.0,\n",
       " u'e8048ccd-7703-515f-9f6d-f7050bc684ad': 1659.0,\n",
       " u'e95d1544-eb02-530c-a9f9-60be1b628530': 542.0,\n",
       " u'e9be9205-e38d-51e2-a7dd-2578702a5e83': 1420.0,\n",
       " u'ee5bc858-061b-57af-9562-842f66b03a6e': 1664.0,\n",
       " u'eea7422e-2870-5795-8dec-7d01cd6f058f': 496.0,\n",
       " u'f053e261-f0c0-59cd-8fd3-00b195e4d114': 2087.0,\n",
       " u'f0cceb52-ff6e-5ba6-8de0-0d0ff47eeb64': 2514.0,\n",
       " u'f2652e17-858d-5466-9daf-7f290f703f26': 952.0,\n",
       " u'f636d34c-e446-5734-b5c9-2ad097f4ec9a': 5940.0,\n",
       " u'f66036bf-c39d-5e0e-bd20-ae57ad0d7249': 1651.0,\n",
       " u'f73138ea-57a7-52b6-a20d-9716854f90c2': 473.0,\n",
       " u'f8ff59ba-6a52-5a85-bd89-78c702e4856e': 2630.0,\n",
       " u'fb27ae0b-cb5a-51ff-ad52-d7bb8fefd5ae': 735.0}"
      ]
     },
     "execution_count": 21,
     "metadata": {},
     "output_type": "execute_result"
    }
   ],
   "source": [
    "corr_id_dur_map"
   ]
  },
  {
   "cell_type": "code",
   "execution_count": 22,
   "metadata": {},
   "outputs": [],
   "source": [
    "# Fill our df with the avf duration\n",
    "lookup_avg = udf(lambda x: corr_id_dur_map[x] if x in corr_id_dur_map else 0.0)\n",
    "df = df.withColumn('AVG_DURATION', lookup_avg('CORR_ID').cast('double'))"
   ]
  },
  {
   "cell_type": "markdown",
   "metadata": {},
   "source": [
    "### Load\n",
    "\n",
    "On the load step of our ETL, we will load the data into Elasticsearch so we can visualize it on Kibana later."
   ]
  },
  {
   "cell_type": "code",
   "execution_count": 23,
   "metadata": {},
   "outputs": [],
   "source": [
    "# Save into ElasticSearch\n",
    "df.write.format(\"org.elasticsearch.spark.sql\") \\\n",
    "    .option(\"es.nodes\", \"elasticsearch\") \\\n",
    "    .option(\"es.resource\", \"kpi/messages\") \\\n",
    "    .save()"
   ]
  },
  {
   "cell_type": "code",
   "execution_count": 24,
   "metadata": {},
   "outputs": [],
   "source": [
    "spark.stop()"
   ]
  },
  {
   "cell_type": "code",
   "execution_count": null,
   "metadata": {},
   "outputs": [],
   "source": []
  }
 ],
 "metadata": {
  "kernelspec": {
   "display_name": "Python 2",
   "language": "python",
   "name": "python2"
  },
  "language_info": {
   "codemirror_mode": {
    "name": "ipython",
    "version": 2
   },
   "file_extension": ".py",
   "mimetype": "text/x-python",
   "name": "python",
   "nbconvert_exporter": "python",
   "pygments_lexer": "ipython2",
   "version": "2.7.15"
  }
 },
 "nbformat": 4,
 "nbformat_minor": 2
}
